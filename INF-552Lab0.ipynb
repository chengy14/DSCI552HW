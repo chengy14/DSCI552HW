{
 "cells": [
  {
   "cell_type": "markdown",
   "metadata": {},
   "source": [
    "<center><h1>INF-552 Lab 0</h1></center>\n",
    "<br>\n",
    "<center><font size=\"4\">Introduction to Basic Development Tools</font></center>"
   ]
  },
  {
   "cell_type": "markdown",
   "metadata": {},
   "source": [
    "### Rules"
   ]
  },
  {
   "cell_type": "markdown",
   "metadata": {},
   "source": [
    "1. Please read the instructions and problem prompts **carefully**.\n",
    "2. This lab is to give you some basic APIs of numpy, pandas and scikit-learn. Besides, some topics such as how to make your jupyter notebook be a more efficient developing tools, how to use git and GitHub will also be covered. The lab is to be done individually. You may talk to your fellow classmates about general issues (\"Remind me again: Which API should I used for doing group by operation to a data set\") but about the specifies of how to do these exercises.\n",
    "3. Along with a similar vein, you can ask the TA for help, but ask questions about **concepts** but not ask the TA to help you debug your code. The TA is here to help, but not to do the work for you.\n",
    "4. You are welcome to use the class resources and the Internet.\n",
    "5. Playing with variations. Solve one problems, and then copy the code to a new cell and play around with it. Doing this is the single most important thing when learning programming.\n",
    "6. This lab will not be graded but the content is highly related to your future programming assignments. So, treat it wisely.\n",
    "7. All the content having been gone though in the week 1 discussion is just a snapshot of the most basic concepts. **You need to keep study more about Git, GitHub, Pandas, Numpy and Scikit-Learn in order to finish your programming assignments successfully.**\n",
    "8. Have fun!"
   ]
  },
  {
   "cell_type": "markdown",
   "metadata": {},
   "source": [
    "### Setup Development Environment"
   ]
  },
  {
   "cell_type": "markdown",
   "metadata": {},
   "source": [
    "There are many ways to setup the environment. But, I do recommend a simple idea that is using the Anaconda, which is a pre-build python environment with bundles of useful packages.\n",
    "\n",
    "**To download the Anaconda, go to the following website:\n",
    "https://www.anaconda.com/distribution/**. Download the correct version based on your operating system and install it step by step.\n",
    "\n",
    "Then, **configure your PATH environment variable** to make the conda command work. The following command is an easy way to test whether your configuration is correct. If it is, you will see something as like as the sample output.\n",
    "\n",
    "> **command:**\n",
    ">\n",
    "> conda --version\n",
    ">\n",
    "> **sample output:**\n",
    ">\n",
    "> conda 4.6.12\n",
    "\n",
    "**Finally, download this jupyter notebook file,** then change the working directory to where its location in terminal, and type the following command to open the jupter notebook and finish the lab.\n",
    "\n",
    "> **command:** \n",
    "> jupyter notebook"
   ]
  },
  {
   "cell_type": "code",
   "execution_count": 1,
   "metadata": {
    "ExecuteTime": {
     "end_time": "2020-01-14T19:44:42.243800Z",
     "start_time": "2020-01-14T19:44:41.609555Z"
    }
   },
   "outputs": [],
   "source": [
    "import pandas as pd\n",
    "import numpy as np"
   ]
  },
  {
   "cell_type": "markdown",
   "metadata": {},
   "source": [
    "### Pandas"
   ]
  },
  {
   "cell_type": "markdown",
   "metadata": {},
   "source": [
    "#### The read_csv() Method"
   ]
  },
  {
   "cell_type": "markdown",
   "metadata": {},
   "source": [
    "First, read the documentation about the *read_csv()* method in Pandas (https://pandas.pydata.org/pandas-docs/stable/reference/api/pandas.read_csv.html). Then, try to read data from file Salaries.csv to a dataframe, make the column playerID in the csv file as the index column and the first row as the header. Also, skip the second row when reading the file."
   ]
  },
  {
   "cell_type": "code",
   "execution_count": 26,
   "metadata": {
    "ExecuteTime": {
     "end_time": "2019-08-28T03:51:17.953542Z",
     "start_time": "2019-08-28T03:51:17.937799Z"
    }
   },
   "outputs": [],
   "source": [
    "data=pd.read_csv('Salaries.csv')"
   ]
  },
  {
   "cell_type": "markdown",
   "metadata": {},
   "source": [
    "#### Indexing and Selecting Data"
   ]
  },
  {
   "cell_type": "markdown",
   "metadata": {},
   "source": [
    "Select the id of the players who are registered in ATL and HOU and whose salary is higher than one million."
   ]
  },
  {
   "cell_type": "code",
   "execution_count": 3,
   "metadata": {
    "ExecuteTime": {
     "end_time": "2019-08-28T03:51:24.015061Z",
     "start_time": "2019-08-28T03:51:23.982621Z"
    }
   },
   "outputs": [
    {
     "data": {
      "text/html": [
       "<div>\n",
       "<style scoped>\n",
       "    .dataframe tbody tr th:only-of-type {\n",
       "        vertical-align: middle;\n",
       "    }\n",
       "\n",
       "    .dataframe tbody tr th {\n",
       "        vertical-align: top;\n",
       "    }\n",
       "\n",
       "    .dataframe thead th {\n",
       "        text-align: right;\n",
       "    }\n",
       "</style>\n",
       "<table border=\"1\" class=\"dataframe\">\n",
       "  <thead>\n",
       "    <tr style=\"text-align: right;\">\n",
       "      <th></th>\n",
       "      <th>yearID</th>\n",
       "      <th>teamID</th>\n",
       "      <th>lgID</th>\n",
       "      <th>playerID</th>\n",
       "      <th>salary</th>\n",
       "    </tr>\n",
       "  </thead>\n",
       "  <tbody>\n",
       "    <tr>\n",
       "      <th>10</th>\n",
       "      <td>1985</td>\n",
       "      <td>ATL</td>\n",
       "      <td>NL</td>\n",
       "      <td>hornebo01</td>\n",
       "      <td>1500000</td>\n",
       "    </tr>\n",
       "    <tr>\n",
       "      <th>15</th>\n",
       "      <td>1985</td>\n",
       "      <td>ATL</td>\n",
       "      <td>NL</td>\n",
       "      <td>murphda05</td>\n",
       "      <td>1625000</td>\n",
       "    </tr>\n",
       "    <tr>\n",
       "      <th>20</th>\n",
       "      <td>1985</td>\n",
       "      <td>ATL</td>\n",
       "      <td>NL</td>\n",
       "      <td>suttebr01</td>\n",
       "      <td>1354167</td>\n",
       "    </tr>\n",
       "    <tr>\n",
       "      <th>31</th>\n",
       "      <td>1986</td>\n",
       "      <td>ATL</td>\n",
       "      <td>NL</td>\n",
       "      <td>hornebo01</td>\n",
       "      <td>1800000</td>\n",
       "    </tr>\n",
       "    <tr>\n",
       "      <th>38</th>\n",
       "      <td>1986</td>\n",
       "      <td>ATL</td>\n",
       "      <td>NL</td>\n",
       "      <td>murphda05</td>\n",
       "      <td>1825000</td>\n",
       "    </tr>\n",
       "  </tbody>\n",
       "</table>\n",
       "</div>"
      ],
      "text/plain": [
       "    yearID teamID lgID   playerID   salary\n",
       "10    1985    ATL   NL  hornebo01  1500000\n",
       "15    1985    ATL   NL  murphda05  1625000\n",
       "20    1985    ATL   NL  suttebr01  1354167\n",
       "31    1986    ATL   NL  hornebo01  1800000\n",
       "38    1986    ATL   NL  murphda05  1825000"
      ]
     },
     "execution_count": 3,
     "metadata": {},
     "output_type": "execute_result"
    }
   ],
   "source": [
    "teamID_ATL=data.loc[data['teamID'].str.match('ATL')]\n",
    "teamID_HOU=data.loc[data['teamID'].str.match('HOU')]\n",
    "TeamID=pd.merge(teamID_ATL, teamID_HOU, how='outer')\n",
    "Team=TeamID.loc[TeamID['salary'] >1000000]\n",
    "Team.head()"
   ]
  },
  {
   "cell_type": "markdown",
   "metadata": {},
   "source": [
    "#### The describe() Method"
   ]
  },
  {
   "cell_type": "markdown",
   "metadata": {},
   "source": [
    "Calculate the standard Deviation, first quartile, medium, third quartile, mean, maximum, minimum of the salary in team ATL."
   ]
  },
  {
   "cell_type": "code",
   "execution_count": 4,
   "metadata": {
    "ExecuteTime": {
     "end_time": "2019-08-28T01:46:27.395276Z",
     "start_time": "2019-08-28T01:46:27.368849Z"
    }
   },
   "outputs": [
    {
     "data": {
      "text/plain": [
       "count    8.860000e+02\n",
       "mean     2.206239e+06\n",
       "std      3.432673e+06\n",
       "min      6.000000e+04\n",
       "25%      3.000000e+05\n",
       "50%      6.000000e+05\n",
       "75%      2.390625e+06\n",
       "max      1.606180e+07\n",
       "Name: salary, dtype: float64"
      ]
     },
     "execution_count": 4,
     "metadata": {},
     "output_type": "execute_result"
    }
   ],
   "source": [
    "teamID_ATL=data.loc[data['teamID'].str.match('ATL')]\n",
    "teamID_ATL['salary'].describe()"
   ]
  },
  {
   "cell_type": "markdown",
   "metadata": {},
   "source": [
    "#### The iterrows() Method"
   ]
  },
  {
   "cell_type": "markdown",
   "metadata": {},
   "source": [
    "Create a Python dictionary object whose keys are the headers of the dataframe created in the read_csv() exercise and values are Python list objects that contain data corresponding to the headers. (Here, use the iterrows method to iterate each row of the dataframe and copy it to a dictionary. However, there is a easier way. Learn how the to_dict() method works by yourself later)"
   ]
  },
  {
   "cell_type": "code",
   "execution_count": 27,
   "metadata": {
    "ExecuteTime": {
     "end_time": "2019-08-28T03:51:38.476575Z",
     "start_time": "2019-08-28T03:51:36.568044Z"
    }
   },
   "outputs": [],
   "source": [
    "dtdic={'yearID':[],'teamID':[],'lgID':[],'playerID':[],'salary':[]}\n",
    "for index,row in data.iterrows():\n",
    "    dtdic['yearID'].append(row['yearID'])\n",
    "    dtdic['teamID'].append(row['teamID'])\n",
    "    dtdic['lgID'].append(row['lgID'])\n",
    "    dtdic['playerID'].append(row['playerID'])\n",
    "    dtdic['salary'].append(row['salary'])    \n",
    "#print(dtdic)"
   ]
  },
  {
   "cell_type": "markdown",
   "metadata": {},
   "source": [
    "#### Create Dataframe Using the Constructor"
   ]
  },
  {
   "cell_type": "markdown",
   "metadata": {
    "ExecuteTime": {
     "end_time": "2019-08-24T15:53:45.113577Z",
     "start_time": "2019-08-24T15:53:45.110554Z"
    }
   },
   "source": [
    "Read the documentation: https://pandas.pydata.org/pandas-docs/stable/reference/api/pandas.DataFrame.html#pandas.DataFrame and create a dataframe using pd.DataFrame from the dictionary created in the iterrows() exercise. Change the header to \"a\", \"b\", \"c\", ... at creation time."
   ]
  },
  {
   "cell_type": "code",
   "execution_count": 6,
   "metadata": {
    "ExecuteTime": {
     "end_time": "2019-08-28T03:53:06.129037Z",
     "start_time": "2019-08-28T03:53:06.074438Z"
    }
   },
   "outputs": [],
   "source": [
    "df = pd.DataFrame(data=dtdic)\n",
    "df.columns = ['a', 'b','c','d','e']\n"
   ]
  },
  {
   "cell_type": "markdown",
   "metadata": {},
   "source": [
    "### Numpy"
   ]
  },
  {
   "cell_type": "markdown",
   "metadata": {},
   "source": [
    "Quick start: https://www.numpy.org/devdocs/user/quickstart.html\n",
    "\n",
    "Numpy axes explaination: https://www.sharpsightlabs.com/blog/numpy-axes-explained/"
   ]
  },
  {
   "cell_type": "markdown",
   "metadata": {},
   "source": [
    "#### The np.array Method"
   ]
  },
  {
   "cell_type": "markdown",
   "metadata": {},
   "source": [
    "Example 1:\n",
    "\n",
    "```python\n",
    "ls = [1, 2, 3]\n",
    "arr = np.array(ls)\n",
    "```\n",
    "\n",
    "Example 2:\n",
    "```python\n",
    ">>> np.array([[1, 2], [3, 4]])\n",
    "array([[1, 2],\n",
    "       [3, 4]])\n",
    "```"
   ]
  },
  {
   "cell_type": "markdown",
   "metadata": {},
   "source": [
    "Now, create a 2-dimensional Python list object, then convert it to a Numpy array object."
   ]
  },
  {
   "cell_type": "code",
   "execution_count": 7,
   "metadata": {},
   "outputs": [
    {
     "data": {
      "text/plain": [
       "array([[1.5, 2. , 3. ],\n",
       "       [4. , 5. , 6. ]])"
      ]
     },
     "execution_count": 7,
     "metadata": {},
     "output_type": "execute_result"
    }
   ],
   "source": [
    "import numpy as np\n",
    "\n",
    "b = np.array([(1.5,2,3), (4,5,6)])\n",
    "b"
   ]
  },
  {
   "cell_type": "markdown",
   "metadata": {},
   "source": [
    "#### ndarray Objects' Attributes"
   ]
  },
  {
   "cell_type": "markdown",
   "metadata": {},
   "source": [
    "Play with the **ndim, shape, size, dtype, itemsize and data** attribute.\n",
    "\n",
    "Example:\n",
    "\n",
    "```python\n",
    ">>> arr = np.array([[1, 2], [3, 4]])\n",
    ">>> arr.ndim\n",
    "2\n",
    "```"
   ]
  },
  {
   "cell_type": "code",
   "execution_count": 8,
   "metadata": {},
   "outputs": [
    {
     "name": "stdout",
     "output_type": "stream",
     "text": [
      "[2, (2, 3), 6, 8, <memory at 0x117d3b7e0>]\n"
     ]
    }
   ],
   "source": [
    "dimension=b.ndim\n",
    "shape=b.shape\n",
    "size=b.size\n",
    "arraytype=b.dtype\n",
    "itemsize=b.itemsize\n",
    "dataarray=b.data\n",
    "list=[dimension,shape,size,itemsize,dataarray]\n",
    "print(list)\n"
   ]
  },
  {
   "cell_type": "markdown",
   "metadata": {},
   "source": [
    "#### Dimension of ndarray Ojects"
   ]
  },
  {
   "cell_type": "markdown",
   "metadata": {},
   "source": [
    "Play with the reshape() and flatten() method.\n",
    "\n",
    "Example:\n",
    "```python\n",
    ">>> arr = np.array([[1, 2], [3, 4]])\n",
    ">>> arr.flatten()\n",
    "array([1, 2, 3, 4])\n",
    "```"
   ]
  },
  {
   "cell_type": "code",
   "execution_count": 9,
   "metadata": {},
   "outputs": [
    {
     "data": {
      "text/plain": [
       "array([1.5, 2. , 3. , 4. , 5. , 6. ])"
      ]
     },
     "execution_count": 9,
     "metadata": {},
     "output_type": "execute_result"
    }
   ],
   "source": [
    "b.reshape(3,2)\n",
    "b.flatten()"
   ]
  },
  {
   "cell_type": "markdown",
   "metadata": {},
   "source": [
    "#### The Slice Operation of ndarray Objects"
   ]
  },
  {
   "cell_type": "markdown",
   "metadata": {},
   "source": [
    "Understand how the slice operation works for 1-D array and 2-D array.\n",
    "\n",
    "Example:\n",
    "\n",
    "```python\n",
    ">>> arr = np.array([[1, 2, 3], [3, 4, 6], [7, 8, 9]])\n",
    ">>> arr[1:]\n",
    "array([[3, 4, 6],\n",
    "       [7, 8, 9]])\n",
    ">>> arr[1:, 0:2]\n",
    "array([[3, 4],\n",
    "       [7, 8]])\n",
    "```"
   ]
  },
  {
   "cell_type": "code",
   "execution_count": 10,
   "metadata": {},
   "outputs": [
    {
     "name": "stdout",
     "output_type": "stream",
     "text": [
      "[10 20 30]\n"
     ]
    }
   ],
   "source": [
    "array = np.array([(10,20,30),(4,5,6)])\n",
    "array1 = array[0,0:3]#select first row\n",
    "print(array1)"
   ]
  },
  {
   "cell_type": "markdown",
   "metadata": {},
   "source": [
    "#### The Calculation of ndarray Objects"
   ]
  },
  {
   "cell_type": "markdown",
   "metadata": {},
   "source": [
    "Play with the **argmin(), argmax(), min(), max(), mean(), sum(), std(), dot(), square(), sqrt(), abs(). exp(), sign(), mod()** method.\n",
    "\n",
    "Example:\n",
    "\n",
    "```python\n",
    ">>> np.square(array)\n",
    "array([[ 1,  4,  9],\n",
    "       [ 9, 16, 36],\n",
    "       [49, 64, 81]])\n",
    "\n",
    "```"
   ]
  },
  {
   "cell_type": "code",
   "execution_count": 11,
   "metadata": {},
   "outputs": [
    {
     "name": "stdout",
     "output_type": "stream",
     "text": [
      "3\n"
     ]
    }
   ],
   "source": [
    "arraymin=array.argmin()\n",
    "print(arraymin)"
   ]
  },
  {
   "cell_type": "markdown",
   "metadata": {},
   "source": [
    "#### Other Important Methods Inside Module Numpy"
   ]
  },
  {
   "cell_type": "markdown",
   "metadata": {},
   "source": [
    "Play with the arange(), ones(), zeros(), eye(), linspace(), concatenate() method.\n",
    "\n",
    "Example:\n",
    "\n",
    "```python\n",
    ">>> np.eye(3)\n",
    "array([[1., 0., 0.],\n",
    "       [0., 1., 0.],\n",
    "       [0., 0., 1.]])\n",
    "```"
   ]
  },
  {
   "cell_type": "code",
   "execution_count": 12,
   "metadata": {},
   "outputs": [
    {
     "data": {
      "text/plain": [
       "array([[1, 2],\n",
       "       [3, 4],\n",
       "       [5, 6]])"
      ]
     },
     "execution_count": 12,
     "metadata": {},
     "output_type": "execute_result"
    }
   ],
   "source": [
    "array=np.linspace(0,2,3)\n",
    "a = np.array([[1, 2], [3, 4]])\n",
    "b = np.array([[5, 6]])\n",
    "np.concatenate((a, b), axis=0)"
   ]
  },
  {
   "cell_type": "markdown",
   "metadata": {},
   "source": [
    "### Scikit-Learn"
   ]
  },
  {
   "cell_type": "markdown",
   "metadata": {},
   "source": [
    "The followings are packages (or methods) in Python (Scikit-Learn and Scipy) that will be frequently used in your programming assignment. So, please read carefully.\n",
    "\n",
    "- Data Preprocessing (https://scikit-learn.org/stable/modules/classes.html#module-sklearn.preprocessing)\n",
    "    - Standardization: StandardScaler\n",
    "    - Normalization: MinMaxScaler\n",
    "    - Quantifing Categorical Features: LabelEncoder. OneHotEncoder\n",
    "    - Construct Train and Test Set: model_selection.train_test_split\n",
    "- KNN: KNeighborsClassifier\n",
    "- Linear Regression: LinearRegression\n",
    "- Logistic Regression: LogisticRegression, LogisticRegressionCV\n",
    "- Feature Selection / Model Selection\n",
    "    - L1 Penalized Regression (Lasso Regression) with Cross-Validation: LassoCV\n",
    "    - L2 Penalized Regression (Ridge Regression) with Cross-Validation: RidgeCV\n",
    "    - Cross-Validation: StratifiedKFold, RepeatedKFold, LeaveOneOut, KFold, model_selection.cross_validate, model_selection.cross_val_predict, model_selection.cross_val_score\n",
    "    - Model Metrics (https://scikit-learn.org/stable/modules/classes.html#sklearn-metrics-metrics): accuracy_score, auc, f1_score, hamming_loss, precision_score, recall_score, roc_auc_score\n",
    "- Decision Tree: DecisionTreeClassifier, DecisionTreeRegressor\n",
    "- Bootstrap, Ensemble Methods\n",
    "    - Bootstrap: bootstrapped (https://pypi.org/project/bootstrapped/)\n",
    "    - Bagging: RandomForestClassifier, RandomForestRegressor\n",
    "    - Boosting: AdaBoostClassifier, AdaBoostRegressor\n",
    "- Support Vector Machines (https://scikit-learn.org/stable/modules/svm.html#svm): LinearSVC, LinearSVR\n",
    "- Multiclass and Multilabel Classification (https://scikit-learn.org/stable/modules/classes.html#module-sklearn.multiclass)\n",
    "    - One-vs-one Multiclass Strategy: OneVsOneClassifier\n",
    "    - One-vs-the-rest (OvR) multiclass/multilabel strategy / OneVsRestClassifier\n",
    "- Unsupervised Learning\n",
    "    - K-means Clustering: KMeans\n",
    "    - Hierarchical Clustering: scipy.cluster.hierarchy (not scikit-learn)\n",
    "- Semisupervised Learning (https://scikit-learn.org/stable/modules/label_propagation.html)"
   ]
  },
  {
   "cell_type": "markdown",
   "metadata": {},
   "source": [
    "### Matplotlib"
   ]
  },
  {
   "cell_type": "markdown",
   "metadata": {},
   "source": [
    "**Quick start:** https://matplotlib.org/3.1.1/tutorials/introductory/pyplot.html\n",
    "\n",
    "**Exercises:**"
   ]
  },
  {
   "cell_type": "markdown",
   "metadata": {},
   "source": [
    "(a) Create two one dimensional arrays x and y and plot y vs x, add title, xlabel, ylabel, grid.\n",
    "\n",
    "```python\n",
    "import numpy as np\n",
    "import matplotlib.pyplot as plt\n",
    "\n",
    "\n",
    "x = np.linspace(-5, 5, num=20)\n",
    "y = np.array([j ** 2 for j in x])\n",
    "```\n",
    "\n",
    "copy the code above to the following cell and add code for plotting the parabola."
   ]
  },
  {
   "cell_type": "code",
   "execution_count": 13,
   "metadata": {
    "ExecuteTime": {
     "end_time": "2020-01-08T10:38:20.467433Z",
     "start_time": "2020-01-08T10:38:20.462120Z"
    }
   },
   "outputs": [],
   "source": [
    "x = np.linspace(-5, 5, num=20)\n",
    "y = np.array([j ** 2 for j in x])"
   ]
  },
  {
   "cell_type": "markdown",
   "metadata": {
    "ExecuteTime": {
     "end_time": "2020-01-08T10:43:28.333944Z",
     "start_time": "2020-01-08T10:43:28.260989Z"
    }
   },
   "source": [
    "What happens if the independent variable is not sorted before plotting? Try plotting directly using the following defined array.\n",
    "\n",
    "```python\n",
    "import numpy as np\n",
    "import matplotlib.pyplot as plt\n",
    "\n",
    "\n",
    "x = np.linspace(-5, 5, num=20)\n",
    "np.random.shuffle(x)\n",
    "y = np.array([j ** 2 for j in x])\n",
    "```"
   ]
  },
  {
   "cell_type": "code",
   "execution_count": 14,
   "metadata": {},
   "outputs": [
    {
     "data": {
      "text/plain": [
       "<Figure size 640x480 with 1 Axes>"
      ]
     },
     "metadata": {},
     "output_type": "display_data"
    }
   ],
   "source": [
    "import numpy as np\n",
    "import matplotlib.pyplot as plt\n",
    "\n",
    "\n",
    "x = np.linspace(-5, 5, num=20)\n",
    "np.random.shuffle(x)\n",
    "y = np.array([j ** 2 for j in x])\n",
    "plt.plot(x,y)\n",
    "plt.show()"
   ]
  },
  {
   "cell_type": "markdown",
   "metadata": {},
   "source": [
    "(b) Create multiple arrays and plot them with different styles, add legends, add text/mathematical equations on the plot.\n",
    "\n",
    "```python\n",
    "import numpy as np\n",
    "import matplotlib.pyplot as plt\n",
    "\n",
    "\n",
    "x = np.linspace(-5, 5, num=20)\n",
    "y1 = np.array([j for j in x])\n",
    "y2 = np.array([j ** 2 for j in x])\n",
    "y3 = np.array([j ** 3 for j in x])\n",
    "```\n",
    "\n",
    "copy the code above to the following cell and add code for plotting curve $\\left(x, y1\\right)$, $\\left(x, y2\\right)$ and $\\left(x, y3\\right)$."
   ]
  },
  {
   "cell_type": "code",
   "execution_count": 15,
   "metadata": {},
   "outputs": [
    {
     "data": {
      "image/png": "[encoded data removed]",
      "text/plain": [
       "<Figure size 432x288 with 1 Axes>"
      ]
     },
     "metadata": {
      "needs_background": "light"
     },
     "output_type": "display_data"
    }
   ],
   "source": [
    "import numpy as np\n",
    "import matplotlib.pyplot as plt\n",
    "\n",
    "\n",
    "x = np.linspace(-5, 5, num=20)\n",
    "y1 = np.array([j for j in x])\n",
    "y2 = np.array([j ** 2 for j in x])\n",
    "y3 = np.array([j ** 3 for j in x])\n",
    "plt.plot(x,y1,'*')\n",
    "plt.xlabel('x')\n",
    "plt.ylabel('y1')\n",
    "plt.show()"
   ]
  },
  {
   "cell_type": "code",
   "execution_count": 16,
   "metadata": {},
   "outputs": [
    {
     "data": {
      "image/png": "[encoded data removed]",
      "text/plain": [
       "<Figure size 432x288 with 1 Axes>"
      ]
     },
     "metadata": {
      "needs_background": "light"
     },
     "output_type": "display_data"
    }
   ],
   "source": [
    "plt.plot(x,y2,'r')\n",
    "plt.show()"
   ]
  },
  {
   "cell_type": "code",
   "execution_count": 17,
   "metadata": {},
   "outputs": [
    {
     "data": {
      "image/png": "[encoded data removed]",
      "text/plain": [
       "<Figure size 432x288 with 1 Axes>"
      ]
     },
     "metadata": {
      "needs_background": "light"
     },
     "output_type": "display_data"
    }
   ],
   "source": [
    "plt.plot(x,y3,'b')\n",
    "plt.show()"
   ]
  },
  {
   "cell_type": "markdown",
   "metadata": {},
   "source": [
    "(c) Create multiple arrays and plot them into one figure **(No multiple figure and no subplot is allowed in this question)**.\n",
    "\n",
    "```python\n",
    "import numpy as np\n",
    "import matplotlib.pyplot as plt\n",
    "\n",
    "\n",
    "x = np.linspace(-5, 5, num=20)\n",
    "y1 = np.array([j for j in x])\n",
    "y2 = np.array([j ** 2 for j in x])\n",
    "y3 = np.array([j ** 3 for j in x])\n",
    "```\n",
    "\n",
    "copy the code above to the following cell and add code for plotting curve $\\left(x, y1\\right)$, $\\left(x, y2\\right)$ and $\\left(x, y3\\right)$."
   ]
  },
  {
   "cell_type": "code",
   "execution_count": 18,
   "metadata": {},
   "outputs": [
    {
     "data": {
      "image/png": "[encoded data removed]",
      "text/plain": [
       "<Figure size 432x288 with 1 Axes>"
      ]
     },
     "metadata": {
      "needs_background": "light"
     },
     "output_type": "display_data"
    }
   ],
   "source": [
    "import numpy as np\n",
    "import matplotlib.pyplot as plt\n",
    "\n",
    "\n",
    "x = np.linspace(-5, 5, num=20)\n",
    "y1 = np.array([j for j in x])\n",
    "y2 = np.array([j ** 2 for j in x])\n",
    "y3 = np.array([j ** 3 for j in x])\n",
    "a=plt.plot(x,y1,x,y2,x,y3)\n",
    "\n",
    "plt.show()"
   ]
  },
  {
   "cell_type": "markdown",
   "metadata": {},
   "source": [
    "(d) Create multiple subplots, play around with the figure size, figure title, and its font style and font size **(One curve is plotted in one subplot in this question)**.\n",
    "\n",
    "```python\n",
    "import numpy as np\n",
    "import matplotlib.pyplot as plt\n",
    "\n",
    "\n",
    "x = np.linspace(-5, 5, num=20)\n",
    "y1 = np.array([j for j in x])\n",
    "y2 = np.array([j ** 2 for j in x])\n",
    "y3 = np.array([j ** 3 for j in x])\n",
    "```\n",
    "\n",
    "copy the code above to the following cell and add code for plotting curve $\\left(x, y1\\right)$, $\\left(x, y2\\right)$ and $\\left(x, y3\\right)$."
   ]
  },
  {
   "cell_type": "code",
   "execution_count": 19,
   "metadata": {},
   "outputs": [
    {
     "data": {
      "text/plain": [
       "[<matplotlib.lines.Line2D at 0x119cb72b0>]"
      ]
     },
     "execution_count": 19,
     "metadata": {},
     "output_type": "execute_result"
    },
    {
     "data": {
      "image/png": "[encoded data removed]",
      "text/plain": [
       "<Figure size 432x288 with 3 Axes>"
      ]
     },
     "metadata": {
      "needs_background": "light"
     },
     "output_type": "display_data"
    }
   ],
   "source": [
    "import numpy as np\n",
    "import matplotlib.pyplot as plt\n",
    "\n",
    "\n",
    "x = np.linspace(-5, 5, num=20)\n",
    "y1 = np.array([j for j in x])\n",
    "y2 = np.array([j ** 2 for j in x])\n",
    "y3 = np.array([j ** 3 for j in x])\n",
    "fig, (ax1, ax2,ax3) = plt.subplots(3)\n",
    "fig.suptitle('Vertically stacked subplots')\n",
    "ax1.plot(x, y)\n",
    "ax2.plot(x, y2)\n",
    "ax3.plot(x,y3)"
   ]
  },
  {
   "cell_type": "markdown",
   "metadata": {},
   "source": [
    "(e) Change the limits on x and y axes, **use logarithmic axes to plot**.\n",
    "\n",
    "```python\n",
    "import numpy as np\n",
    "import matplotlib.pyplot as plt\n",
    "\n",
    "\n",
    "x = np.linspace(-5, 5, num=20)\n",
    "y = np.array([j ** 2 for j in x])\n",
    "```\n",
    "\n",
    "copy the code above to the following cell and add code for plotting the parabola."
   ]
  },
  {
   "cell_type": "code",
   "execution_count": 20,
   "metadata": {},
   "outputs": [
    {
     "data": {
      "image/png": "[encoded data removed]",
      "text/plain": [
       "<Figure size 432x288 with 1 Axes>"
      ]
     },
     "metadata": {
      "needs_background": "light"
     },
     "output_type": "display_data"
    }
   ],
   "source": [
    "import numpy as np\n",
    "import matplotlib.pyplot as plt\n",
    "\n",
    "\n",
    "x = np.linspace(-5, 5, num=20)\n",
    "y = np.array([j ** 2 for j in x])\n",
    "plt.plot(x, y)\n",
    "plt.xscale('log')"
   ]
  },
  {
   "cell_type": "markdown",
   "metadata": {},
   "source": [
    "### Pandas's DataFrame.plot and Seaborn"
   ]
  },
  {
   "cell_type": "markdown",
   "metadata": {},
   "source": [
    "#### Pandas's DataFrame.plot\n",
    "\n",
    "Use the Salaries.csv again (You can use the dataframe object loaded from section 3.1)."
   ]
  },
  {
   "cell_type": "markdown",
   "metadata": {},
   "source": [
    "(a) For team 'ATL', plot a scatter plot between feature yearID and salary."
   ]
  },
  {
   "cell_type": "code",
   "execution_count": 21,
   "metadata": {},
   "outputs": [
    {
     "data": {
      "text/plain": [
       "<matplotlib.collections.PathCollection at 0x119dc8668>"
      ]
     },
     "execution_count": 21,
     "metadata": {},
     "output_type": "execute_result"
    },
    {
     "data": {
      "image/png": "[encoded data removed]",
      "text/plain": [
       "<Figure size 432x288 with 1 Axes>"
      ]
     },
     "metadata": {
      "needs_background": "light"
     },
     "output_type": "display_data"
    }
   ],
   "source": [
    "teamID_ATL=data.loc[data['teamID'].str.match('ATL')]\n",
    "teamID_ATL\n",
    "x=teamID_ATL['yearID']\n",
    "y=teamID_ATL['salary']\n",
    "plt.scatter(x,y)"
   ]
  },
  {
   "cell_type": "markdown",
   "metadata": {},
   "source": [
    "(b) For year 1985, plot a bar chart to show the average salary for each team."
   ]
  },
  {
   "cell_type": "code",
   "execution_count": 22,
   "metadata": {},
   "outputs": [
    {
     "data": {
      "text/plain": [
       "673045.4545454546"
      ]
     },
     "execution_count": 22,
     "metadata": {},
     "output_type": "execute_result"
    }
   ],
   "source": [
    "teamID_ATL_1985=teamID_ATL.loc[teamID_ATL['yearID']==1985]\n",
    "salary_1985=teamID_ATL_1985['salary']\n",
    "salary_1985.mean()\n",
    "\n"
   ]
  },
  {
   "cell_type": "markdown",
   "metadata": {},
   "source": [
    "(c) For team 'ATL', plot a line chart to show how the annual average salary change by years."
   ]
  },
  {
   "cell_type": "code",
   "execution_count": 23,
   "metadata": {},
   "outputs": [
    {
     "data": {
      "text/plain": [
       "[<matplotlib.lines.Line2D at 0x119f597f0>]"
      ]
     },
     "execution_count": 23,
     "metadata": {},
     "output_type": "execute_result"
    },
    {
     "data": {
      "image/png": "[encoded data removed]",
      "text/plain": [
       "<Figure size 432x288 with 1 Axes>"
      ]
     },
     "metadata": {
      "needs_background": "light"
     },
     "output_type": "display_data"
    }
   ],
   "source": [
    "x=range(1985,2016)\n",
    "y=[]\n",
    "for i in range(1985,2016):\n",
    "    salary=teamID_ATL.loc[teamID_ATL['yearID']==i]['salary']\n",
    "    y.append(salary.mean())\n",
    "plt.plot(x,y)"
   ]
  },
  {
   "cell_type": "markdown",
   "metadata": {},
   "source": [
    "#### Seaborn"
   ]
  },
  {
   "cell_type": "markdown",
   "metadata": {},
   "source": [
    "(a) Append one more numeric feature to the data frame (can be generated randomly), then for team 'ATL', use the seaborn.pairplot to plot scatter plots among all numeric features in the data frame for team. "
   ]
  },
  {
   "cell_type": "code",
   "execution_count": 24,
   "metadata": {},
   "outputs": [
    {
     "data": {
      "image/png": "[encoded data removed]",
      "text/plain": [
       "<Figure size 540x540 with 12 Axes>"
      ]
     },
     "metadata": {},
     "output_type": "display_data"
    }
   ],
   "source": [
    "z=[]\n",
    "for index, row in data.iterrows():\n",
    "    z.append(row['salary']*2)\n",
    "data['Double Salary']=z\n",
    "teamID_ATL=data.loc[data['teamID'].str.match('ATL')]\n",
    "import seaborn as sns; sns.set(style=\"ticks\", color_codes=True)\n",
    "sns.set(style=\"ticks\", color_codes=True)\n",
    "g = sns.pairplot(data)\n"
   ]
  },
  {
   "cell_type": "markdown",
   "metadata": {},
   "source": [
    "(b) For year 1985 and for each team, plot a boxplot to show how the salary distribute within a team."
   ]
  },
  {
   "cell_type": "code",
   "execution_count": 25,
   "metadata": {},
   "outputs": [
    {
     "data": {
      "image/png": "[encoded data removed]",
      "text/plain": [
       "<Figure size 432x288 with 1 Axes>"
      ]
     },
     "metadata": {},
     "output_type": "display_data"
    }
   ],
   "source": [
    "Team_1985=data.loc[data['yearID']==1985]\n",
    "X=Team_1985['teamID']\n",
    "Y=Team_1985['salary']\n",
    "boxplot = Team_1985.boxplot(column='salary', by=['teamID'])\n",
    "plt.show()"
   ]
  },
  {
   "cell_type": "markdown",
   "metadata": {},
   "source": [
    "(c) Read the offical documentation (https://seaborn.pydata.org/) to understand how lmplot, catplot, relplot, and jointplot works."
   ]
  },
  {
   "cell_type": "markdown",
   "metadata": {},
   "source": [
    "### Jupyter Notebook"
   ]
  },
  {
   "cell_type": "markdown",
   "metadata": {},
   "source": [
    "#### Jupyter Notebook Extensions"
   ]
  },
  {
   "cell_type": "markdown",
   "metadata": {},
   "source": [
    "Extensions such as the code formatter, table of content is to make your development more efficient. To explore it, please refer to https://github.com/ipython-contrib/jupyter_contrib_nbextensions."
   ]
  },
  {
   "cell_type": "markdown",
   "metadata": {},
   "source": [
    "#### Jupyter Visual Debugger"
   ]
  },
  {
   "cell_type": "markdown",
   "metadata": {},
   "source": [
    "The Pixie Debugger is a visual debugger for debugging on Jupyter Notebook. To explore it, please refer to https://medium.com/codait/the-visual-python-debugger-for-jupyter-notebooks-youve-always-wanted-761713babc62."
   ]
  },
  {
   "cell_type": "markdown",
   "metadata": {},
   "source": [
    "### Git and GitHub"
   ]
  },
  {
   "cell_type": "markdown",
   "metadata": {},
   "source": [
    "1. In the directory that where this jupyter notebook file locates in, init a Git repository.\n",
    "2. Checkout a new branch called dev and commit the current notebook within this branch.\n",
    "3. Merge the dev branch to the master branch (the default branch).\n",
    "4. Create a temporary repository (just for practicing and you can delete it later) in GitHub. \n",
    "5. Push new changes in the master branch to the remote repository created in step 4.\n",
    "6. Checkout the dev branch again and do some changes to your notebook, and then repeat step 3 and step 5."
   ]
  },
  {
   "cell_type": "code",
   "execution_count": null,
   "metadata": {},
   "outputs": [],
   "source": []
  },
  {
   "cell_type": "code",
   "execution_count": null,
   "metadata": {},
   "outputs": [],
   "source": []
  },
  {
   "cell_type": "code",
   "execution_count": null,
   "metadata": {},
   "outputs": [],
   "source": []
  },
  {
   "cell_type": "code",
   "execution_count": null,
   "metadata": {},
   "outputs": [],
   "source": []
  },
  {
   "cell_type": "code",
   "execution_count": null,
   "metadata": {},
   "outputs": [],
   "source": []
  }
 ],
 "metadata": {
  "kernelspec": {
   "display_name": "Python 3",
   "language": "python",
   "name": "python3"
  },
  "language_info": {
   "codemirror_mode": {
    "name": "ipython",
    "version": 3
   },
   "file_extension": ".py",
   "mimetype": "text/x-python",
   "name": "python",
   "nbconvert_exporter": "python",
   "pygments_lexer": "ipython3",
   "version": "3.7.3"
  },
  "toc": {
   "base_numbering": 1,
   "nav_menu": {},
   "number_sections": true,
   "sideBar": true,
   "skip_h1_title": true,
   "title_cell": "Table of Contents",
   "title_sidebar": "Contents",
   "toc_cell": false,
   "toc_position": {
    "height": "calc(100% - 180px)",
    "left": "10px",
    "top": "150px",
    "width": "294.435px"
   },
   "toc_section_display": true,
   "toc_window_display": true
  }
 },
 "nbformat": 4,
 "nbformat_minor": 2
}
